{
 "cells": [
  {
   "cell_type": "code",
   "execution_count": 105,
   "metadata": {
    "collapsed": false
   },
   "outputs": [
    {
     "name": "stdout",
     "output_type": "stream",
     "text": [
      "/Users/talbotm/Documents/PythonProjects\n",
      "<_csv.reader object at 0x1199a2c88>\n",
      "[[ 1]\n",
      " [ 2]\n",
      " [ 3]\n",
      " [ 4]\n",
      " [ 5]\n",
      " [ 5]\n",
      " [ 6]\n",
      " [ 7]\n",
      " [ 8]\n",
      " [ 9]\n",
      " [10]]\n",
      "[[ 1]\n",
      " [-2]\n",
      " [ 3]\n",
      " [ 4]\n",
      " [ 5]\n",
      " [ 5]\n",
      " [ 6]\n",
      " [ 7]\n",
      " [ 8]\n",
      " [ 9]\n",
      " [10]]\n",
      "Coefficients: \n",
      " [[ 1.16703297]]\n",
      "Intercept: \n",
      " [-1.27472527]\n",
      "Residual sum of squares: 1.11\n",
      "r^2: 0.90\n"
     ]
    }
   ],
   "source": [
    "\n",
    "\n",
    "\n",
    "import matplotlib.pyplot as plt\n",
    "import numpy as np\n",
    "from sklearn import datasets, linear_model\n",
    "import os;\n",
    "import csv\n",
    "\n",
    "\n",
    "os.chdir('/Users/talbotm/Documents/PythonProjects/')\n",
    "print(os.getcwd())\n",
    "\n",
    "# d = {}\n",
    "# d[1] = [22, 33, 44]\n",
    "# d[2] = [55,66,77]\n",
    "\n",
    "# for key, value in d.items():\n",
    "#     print(value[1])\n",
    "\n",
    "\n",
    "data = csv.reader('x1.csv')  \n",
    "    \n",
    "print(data)   \n",
    "\n",
    "x = np.array([1,2,3,4,5,5,6, 7, 8,9 ,10])\n",
    "y = np.array([1,-2,3,4,5,5,6, 7, 8,9 ,10])\n",
    "\n",
    "x = x.reshape(-1,1)\n",
    "y = y.reshape(-1,1)\n",
    "\n",
    "# # Create linear regression object\n",
    "regr = linear_model.LinearRegression()\n",
    "\n",
    "# # Train the model using the training sets\n",
    "regr.fit(x, y)\n",
    "\n",
    "\n",
    "print(x)\n",
    "print(y)\n",
    "\n",
    "print('Coefficients: \\n', regr.coef_)\n",
    "print('Intercept: \\n', regr.intercept_ )\n",
    "#The mean square error\n",
    "print(\"Residual sum of squares: %.2f\"\n",
    "      % np.mean((regr.predict(x) - y) ** 2))\n",
    "# Explained variance score: 1 is perfect prediction\n",
    "print('r^2: %.2f' % regr.score(x, y))\n",
    "\n",
    "\n",
    "\n",
    "\n",
    "\n",
    "\n",
    "#csv.reader(csvfile, dialect='excel', **fmtparams)\n"
   ]
  },
  {
   "cell_type": "code",
   "execution_count": 85,
   "metadata": {
    "collapsed": false,
    "scrolled": true
   },
   "outputs": [
    {
     "name": "stdout",
     "output_type": "stream",
     "text": [
      "/Users/talbotm/Documents/PythonProjects/Jupyter\n",
      "0     1\n",
      "1     2\n",
      "2     3\n",
      "3     4\n",
      "4     5\n",
      "5     6\n",
      "6     7\n",
      "7     8\n",
      "8     9\n",
      "9    10\n",
      "Name: x, dtype: int64\n"
     ]
    }
   ],
   "source": [
    "import os\n",
    "import csv\n",
    "import sys\n",
    "\n",
    "\n",
    "os.chdir('/Users/talbotm/Documents/PythonProjects/Jupyter/')\n",
    "print(os.getcwd())\n",
    "\n",
    "\n",
    "# import csv\n",
    "# with open('x1.csv', 'r') as f:\n",
    "#     reader = csv.reader(f)\n",
    "#     for row in reader:\n",
    "#         print(row)\n",
    "        \n",
    "import pandas as pd\n",
    "\n",
    "data = pd.read_csv('x1.csv')\n",
    "\n",
    "\n",
    "\n",
    "\n",
    "        "
   ]
  },
  {
   "cell_type": "code",
   "execution_count": 115,
   "metadata": {
    "collapsed": false
   },
   "outputs": [
    {
     "name": "stdout",
     "output_type": "stream",
     "text": [
      "/Users/talbotm/Documents/PythonProjects/Jupyter\n",
      "Coefficients: \n",
      " [[ 1.05454545]]\n",
      "Intercept: \n",
      " [ 0.6]\n",
      "Residual sum of squares: 0.07\n",
      "r^2: 0.99\n"
     ]
    },
    {
     "data": {
      "text/plain": [
       "0    1\n",
       "1    2\n",
       "2    3\n",
       "3    4\n",
       "dtype: int64"
      ]
     },
     "execution_count": 115,
     "metadata": {},
     "output_type": "execute_result"
    }
   ],
   "source": [
    "## Read csv file with two columns and compute regression \n",
    "\n",
    "import os\n",
    "import csv\n",
    "import sys\n",
    "import pandas as pd\n",
    "\n",
    "os.chdir('/Users/talbotm/Documents/PythonProjects/Jupyter/')\n",
    "print(os.getcwd())\n",
    "\n",
    "data = pd.read_csv('x1.csv')\n",
    "\n",
    "data.x = list(data.x)\n",
    "data.y = list(data.y)\n",
    "\n",
    "x = (data.x.reshape(-1,1))\n",
    "y = (data.y.reshape(-1,1))\n",
    "\n",
    "\n",
    "# # Create linear regression object\n",
    "regr = linear_model.LinearRegression()\n",
    "\n",
    "# # Train the model using the training sets\n",
    "regr.fit(x, y)\n",
    "\n",
    "\n",
    "print('Coefficients: \\n', regr.coef_)\n",
    "print('Intercept: \\n', regr.intercept_ )\n",
    "#The mean square error\n",
    "print(\"Residual sum of squares: %.2f\"\n",
    "      % np.mean((regr.predict(x) - y) ** 2))\n",
    "# Explained variance score: 1 is perfect prediction\n",
    "print('r^2: %.2f' % regr.score(x, y))\n",
    "\n",
    "\n",
    "\n"
   ]
  },
  {
   "cell_type": "code",
   "execution_count": 116,
   "metadata": {
    "collapsed": false
   },
   "outputs": [
    {
     "data": {
      "text/plain": [
       "array([[1, 2],\n",
       "       [3, 4]])"
      ]
     },
     "execution_count": 116,
     "metadata": {},
     "output_type": "execute_result"
    }
   ],
   "source": [
    "a = pd.Series([1,2,3,4])\n",
    "b = a.reshape(2,2)\n",
    "b"
   ]
  },
  {
   "cell_type": "code",
   "execution_count": 130,
   "metadata": {
    "collapsed": false
   },
   "outputs": [
    {
     "data": {
      "text/html": [
       "<div>\n",
       "<table border=\"1\" class=\"dataframe\">\n",
       "  <thead>\n",
       "    <tr style=\"text-align: right;\">\n",
       "      <th></th>\n",
       "      <th>A</th>\n",
       "      <th>B</th>\n",
       "      <th>C</th>\n",
       "    </tr>\n",
       "  </thead>\n",
       "  <tbody>\n",
       "    <tr>\n",
       "      <th>0</th>\n",
       "      <td>a</td>\n",
       "      <td>1</td>\n",
       "      <td>2</td>\n",
       "    </tr>\n",
       "  </tbody>\n",
       "</table>\n",
       "</div>"
      ],
      "text/plain": [
       "   A  B  C\n",
       "0  a  1  2"
      ]
     },
     "execution_count": 130,
     "metadata": {},
     "output_type": "execute_result"
    }
   ],
   "source": [
    "df = pd.DataFrame({'A': {0: 'a', 1: 'b', 2: 'c'},\n",
    "...                'B': {0: 1,   1: 3,   2: 5},\n",
    "...                'C': {0: 2,   1: 4,   2: 6}})\n",
    "df[]"
   ]
  },
  {
   "cell_type": "code",
   "execution_count": null,
   "metadata": {
    "collapsed": true
   },
   "outputs": [],
   "source": []
  }
 ],
 "metadata": {
  "kernelspec": {
   "display_name": "Python 3",
   "language": "python",
   "name": "python3"
  },
  "language_info": {
   "codemirror_mode": {
    "name": "ipython",
    "version": 3
   },
   "file_extension": ".py",
   "mimetype": "text/x-python",
   "name": "python",
   "nbconvert_exporter": "python",
   "pygments_lexer": "ipython3",
   "version": "3.5.1"
  }
 },
 "nbformat": 4,
 "nbformat_minor": 0
}
